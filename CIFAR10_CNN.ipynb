{
  "nbformat": 4,
  "nbformat_minor": 0,
  "metadata": {
    "colab": {
      "name": "CIFAR10_CNN.ipynb",
      "provenance": []
    },
    "kernelspec": {
      "name": "python3",
      "display_name": "Python 3"
    },
    "language_info": {
      "name": "python"
    },
    "gpuClass": "standard",
    "accelerator": "GPU"
  },
  "cells": [
    {
      "cell_type": "code",
      "source": [
        "import tensorflow as tf\n",
        "from tensorflow.keras.layers import Dense, Flatten, Conv2D, MaxPooling2D, Dropout, BatchNormalization\n",
        "from tensorflow.keras import Model\n",
        "\n",
        "from tensorflow.keras import datasets, layers, models\n",
        "import matplotlib.pyplot as plt"
      ],
      "metadata": {
        "id": "ArMeL-U7ssQ7"
      },
      "execution_count": 1,
      "outputs": []
    },
    {
      "cell_type": "code",
      "source": [
        "(x_train, y_train), (x_test, y_test) = datasets.cifar10.load_data()\n",
        "print(type(x_train))\n",
        "#x_train = tf.image.rgb_to_grayscale(x_train)\n",
        "#x_test = tf.image.rgb_to_grayscale(x_test)\n",
        "    \n",
        "x_train = x_train / 255\n",
        "x_test = x_test / 255"
      ],
      "metadata": {
        "colab": {
          "base_uri": "https://localhost:8080/"
        },
        "id": "Ebbmq_1Psshk",
        "outputId": "44e1099f-cfa8-4179-ae50-269b9a22cb1c"
      },
      "execution_count": 2,
      "outputs": [
        {
          "output_type": "stream",
          "name": "stdout",
          "text": [
            "<class 'numpy.ndarray'>\n"
          ]
        }
      ]
    },
    {
      "cell_type": "code",
      "source": [
        "x_train = tf.image.rgb_to_grayscale(x_train)\n",
        "x_test = tf.image.rgb_to_grayscale(x_test)"
      ],
      "metadata": {
        "id": "BPSktsobAnIL"
      },
      "execution_count": 3,
      "outputs": []
    },
    {
      "cell_type": "code",
      "source": [
        "print(x_train.shape)\n",
        "print(x_test.shape)"
      ],
      "metadata": {
        "colab": {
          "base_uri": "https://localhost:8080/"
        },
        "id": "9eOP5xNcss29",
        "outputId": "3958f548-7937-4bae-a402-d098d613b492"
      },
      "execution_count": 10,
      "outputs": [
        {
          "output_type": "stream",
          "name": "stdout",
          "text": [
            "(50000, 32, 32, 1)\n",
            "(10000, 32, 32, 1)\n"
          ]
        }
      ]
    },
    {
      "cell_type": "code",
      "source": [
        "model = tf.keras.models.Sequential()\n",
        "model.add(layers.Conv2D(32, (3, 3), activation='relu', input_shape=(32, 32, 1)))\n",
        "model.add(layers.BatchNormalization())\n",
        "model.add(layers.Conv2D(32, (3, 3), activation='relu'))\n",
        "model.add(layers.BatchNormalization())\n",
        "model.add(layers.MaxPooling2D((2, 2)))\n",
        "model.add(layers.Dropout(0.2))\n",
        "model.add(layers.Conv2D(64, (3, 3), activation='relu'))\n",
        "model.add(layers.BatchNormalization())\n",
        "model.add(layers.Conv2D(64, (3, 3), activation='relu'))\n",
        "model.add(layers.BatchNormalization())\n",
        "model.add(layers.MaxPooling2D((2, 2)))\n",
        "model.add(layers.Dropout(0.3))\n",
        "model.add(layers.Conv2D(128, (3, 3), activation='relu'))\n",
        "model.add(layers.BatchNormalization())\n",
        "model.add(layers.Conv2D(128, (3, 3), activation='relu', padding='SAME'))\n",
        "model.add(layers.BatchNormalization())\n",
        "model.add(layers.MaxPooling2D((2, 2)))\n",
        "model.add(layers.Dropout(0.3))\n",
        "model.add(layers.Flatten())\n",
        "model.add(layers.Dense(128, activation='relu'))\n",
        "model.add(layers.Dropout(0.4))\n",
        "model.add(layers.Dense(10))\n",
        "\n",
        "          \n"
      ],
      "metadata": {
        "id": "oh4FzYElstLc"
      },
      "execution_count": 4,
      "outputs": []
    },
    {
      "cell_type": "code",
      "source": [
        "model.summary()"
      ],
      "metadata": {
        "colab": {
          "base_uri": "https://localhost:8080/"
        },
        "id": "OiUzoeHmvEtv",
        "outputId": "635ac67a-e500-479f-837e-e9d27771e884"
      },
      "execution_count": 7,
      "outputs": [
        {
          "output_type": "stream",
          "name": "stdout",
          "text": [
            "Model: \"sequential_2\"\n",
            "_________________________________________________________________\n",
            " Layer (type)                Output Shape              Param #   \n",
            "=================================================================\n",
            " conv2d_12 (Conv2D)          (None, 30, 30, 32)        320       \n",
            "                                                                 \n",
            " batch_normalization_12 (Bat  (None, 30, 30, 32)       128       \n",
            " chNormalization)                                                \n",
            "                                                                 \n",
            " conv2d_13 (Conv2D)          (None, 28, 28, 32)        9248      \n",
            "                                                                 \n",
            " batch_normalization_13 (Bat  (None, 28, 28, 32)       128       \n",
            " chNormalization)                                                \n",
            "                                                                 \n",
            " max_pooling2d_6 (MaxPooling  (None, 14, 14, 32)       0         \n",
            " 2D)                                                             \n",
            "                                                                 \n",
            " dropout_6 (Dropout)         (None, 14, 14, 32)        0         \n",
            "                                                                 \n",
            " conv2d_14 (Conv2D)          (None, 12, 12, 64)        18496     \n",
            "                                                                 \n",
            " batch_normalization_14 (Bat  (None, 12, 12, 64)       256       \n",
            " chNormalization)                                                \n",
            "                                                                 \n",
            " conv2d_15 (Conv2D)          (None, 10, 10, 64)        36928     \n",
            "                                                                 \n",
            " batch_normalization_15 (Bat  (None, 10, 10, 64)       256       \n",
            " chNormalization)                                                \n",
            "                                                                 \n",
            " max_pooling2d_7 (MaxPooling  (None, 5, 5, 64)         0         \n",
            " 2D)                                                             \n",
            "                                                                 \n",
            " dropout_7 (Dropout)         (None, 5, 5, 64)          0         \n",
            "                                                                 \n",
            " conv2d_16 (Conv2D)          (None, 3, 3, 128)         73856     \n",
            "                                                                 \n",
            " batch_normalization_16 (Bat  (None, 3, 3, 128)        512       \n",
            " chNormalization)                                                \n",
            "                                                                 \n",
            " conv2d_17 (Conv2D)          (None, 3, 3, 128)         147584    \n",
            "                                                                 \n",
            " batch_normalization_17 (Bat  (None, 3, 3, 128)        512       \n",
            " chNormalization)                                                \n",
            "                                                                 \n",
            " max_pooling2d_8 (MaxPooling  (None, 1, 1, 128)        0         \n",
            " 2D)                                                             \n",
            "                                                                 \n",
            " dropout_8 (Dropout)         (None, 1, 1, 128)         0         \n",
            "                                                                 \n",
            " flatten_1 (Flatten)         (None, 128)               0         \n",
            "                                                                 \n",
            " dense_2 (Dense)             (None, 128)               16512     \n",
            "                                                                 \n",
            " dropout_9 (Dropout)         (None, 128)               0         \n",
            "                                                                 \n",
            " dense_3 (Dense)             (None, 10)                1290      \n",
            "                                                                 \n",
            "=================================================================\n",
            "Total params: 306,026\n",
            "Trainable params: 305,130\n",
            "Non-trainable params: 896\n",
            "_________________________________________________________________\n"
          ]
        }
      ]
    },
    {
      "cell_type": "code",
      "source": [
        "model.compile(optimizer='adam',\n",
        "              loss=tf.keras.losses.SparseCategoricalCrossentropy(from_logits=True),\n",
        "              metrics=['accuracy'])\n",
        "\n",
        "\n",
        "history = model.fit(x_train, y_train, epochs=70, \n",
        "                    validation_data=(x_test, y_test))"
      ],
      "metadata": {
        "colab": {
          "base_uri": "https://localhost:8080/"
        },
        "id": "Q7C-7MoDstfD",
        "outputId": "5107d4d9-24c2-4cbe-f034-53db9ea45e07"
      },
      "execution_count": 5,
      "outputs": [
        {
          "output_type": "stream",
          "name": "stdout",
          "text": [
            "Epoch 1/70\n",
            "1563/1563 [==============================] - 14s 7ms/step - loss: 1.7960 - accuracy: 0.3690 - val_loss: 1.3476 - val_accuracy: 0.5194\n",
            "Epoch 2/70\n",
            "1563/1563 [==============================] - 10s 6ms/step - loss: 1.2720 - accuracy: 0.5590 - val_loss: 1.0913 - val_accuracy: 0.6121\n",
            "Epoch 3/70\n",
            "1563/1563 [==============================] - 9s 6ms/step - loss: 1.0809 - accuracy: 0.6264 - val_loss: 0.9564 - val_accuracy: 0.6649\n",
            "Epoch 4/70\n",
            "1563/1563 [==============================] - 9s 6ms/step - loss: 0.9704 - accuracy: 0.6686 - val_loss: 0.8392 - val_accuracy: 0.7076\n",
            "Epoch 5/70\n",
            "1563/1563 [==============================] - 10s 6ms/step - loss: 0.8956 - accuracy: 0.6947 - val_loss: 0.7785 - val_accuracy: 0.7311\n",
            "Epoch 6/70\n",
            "1563/1563 [==============================] - 10s 6ms/step - loss: 0.8384 - accuracy: 0.7174 - val_loss: 0.7495 - val_accuracy: 0.7399\n",
            "Epoch 7/70\n",
            "1563/1563 [==============================] - 10s 6ms/step - loss: 0.7909 - accuracy: 0.7335 - val_loss: 0.7056 - val_accuracy: 0.7558\n",
            "Epoch 8/70\n",
            "1563/1563 [==============================] - 9s 6ms/step - loss: 0.7489 - accuracy: 0.7461 - val_loss: 0.7640 - val_accuracy: 0.7431\n",
            "Epoch 9/70\n",
            "1563/1563 [==============================] - 9s 6ms/step - loss: 0.7146 - accuracy: 0.7589 - val_loss: 0.6532 - val_accuracy: 0.7795\n",
            "Epoch 10/70\n",
            "1563/1563 [==============================] - 9s 6ms/step - loss: 0.6858 - accuracy: 0.7685 - val_loss: 0.6902 - val_accuracy: 0.7671\n",
            "Epoch 11/70\n",
            "1563/1563 [==============================] - 10s 6ms/step - loss: 0.6635 - accuracy: 0.7761 - val_loss: 0.7077 - val_accuracy: 0.7544\n",
            "Epoch 12/70\n",
            "1563/1563 [==============================] - 10s 6ms/step - loss: 0.6374 - accuracy: 0.7848 - val_loss: 0.6955 - val_accuracy: 0.7638\n",
            "Epoch 13/70\n",
            "1563/1563 [==============================] - 10s 6ms/step - loss: 0.6156 - accuracy: 0.7924 - val_loss: 0.6266 - val_accuracy: 0.7866\n",
            "Epoch 14/70\n",
            "1563/1563 [==============================] - 10s 6ms/step - loss: 0.6050 - accuracy: 0.7955 - val_loss: 0.6756 - val_accuracy: 0.7790\n",
            "Epoch 15/70\n",
            "1563/1563 [==============================] - 10s 6ms/step - loss: 0.5835 - accuracy: 0.8010 - val_loss: 0.6038 - val_accuracy: 0.7965\n",
            "Epoch 16/70\n",
            "1563/1563 [==============================] - 9s 6ms/step - loss: 0.5652 - accuracy: 0.8083 - val_loss: 0.6321 - val_accuracy: 0.7889\n",
            "Epoch 17/70\n",
            "1563/1563 [==============================] - 10s 6ms/step - loss: 0.5486 - accuracy: 0.8140 - val_loss: 0.6139 - val_accuracy: 0.7950\n",
            "Epoch 18/70\n",
            "1563/1563 [==============================] - 10s 6ms/step - loss: 0.5394 - accuracy: 0.8157 - val_loss: 0.6611 - val_accuracy: 0.7833\n",
            "Epoch 19/70\n",
            "1563/1563 [==============================] - 10s 6ms/step - loss: 0.5254 - accuracy: 0.8211 - val_loss: 0.6334 - val_accuracy: 0.7938\n",
            "Epoch 20/70\n",
            "1563/1563 [==============================] - 9s 6ms/step - loss: 0.5203 - accuracy: 0.8247 - val_loss: 0.6263 - val_accuracy: 0.7937\n",
            "Epoch 21/70\n",
            "1563/1563 [==============================] - 10s 7ms/step - loss: 0.5002 - accuracy: 0.8312 - val_loss: 0.6111 - val_accuracy: 0.7985\n",
            "Epoch 22/70\n",
            "1563/1563 [==============================] - 9s 6ms/step - loss: 0.4947 - accuracy: 0.8309 - val_loss: 0.6038 - val_accuracy: 0.8009\n",
            "Epoch 23/70\n",
            "1563/1563 [==============================] - 10s 6ms/step - loss: 0.4803 - accuracy: 0.8352 - val_loss: 0.6087 - val_accuracy: 0.7991\n",
            "Epoch 24/70\n",
            "1563/1563 [==============================] - 9s 6ms/step - loss: 0.4703 - accuracy: 0.8392 - val_loss: 0.6816 - val_accuracy: 0.7837\n",
            "Epoch 25/70\n",
            "1563/1563 [==============================] - 10s 6ms/step - loss: 0.4648 - accuracy: 0.8429 - val_loss: 0.6253 - val_accuracy: 0.7993\n",
            "Epoch 26/70\n",
            "1563/1563 [==============================] - 9s 6ms/step - loss: 0.4552 - accuracy: 0.8463 - val_loss: 0.6155 - val_accuracy: 0.8056\n",
            "Epoch 27/70\n",
            "1563/1563 [==============================] - 10s 6ms/step - loss: 0.4496 - accuracy: 0.8487 - val_loss: 0.5929 - val_accuracy: 0.8065\n",
            "Epoch 28/70\n",
            "1563/1563 [==============================] - 10s 6ms/step - loss: 0.4352 - accuracy: 0.8523 - val_loss: 0.6184 - val_accuracy: 0.8068\n",
            "Epoch 29/70\n",
            "1563/1563 [==============================] - 10s 6ms/step - loss: 0.4361 - accuracy: 0.8509 - val_loss: 0.6266 - val_accuracy: 0.8073\n",
            "Epoch 30/70\n",
            "1563/1563 [==============================] - 10s 6ms/step - loss: 0.4261 - accuracy: 0.8538 - val_loss: 0.6080 - val_accuracy: 0.8067\n",
            "Epoch 31/70\n",
            "1563/1563 [==============================] - 10s 6ms/step - loss: 0.4205 - accuracy: 0.8561 - val_loss: 0.6114 - val_accuracy: 0.8044\n",
            "Epoch 32/70\n",
            "1563/1563 [==============================] - 10s 6ms/step - loss: 0.4142 - accuracy: 0.8592 - val_loss: 0.6080 - val_accuracy: 0.8110\n",
            "Epoch 33/70\n",
            "1563/1563 [==============================] - 9s 6ms/step - loss: 0.4067 - accuracy: 0.8604 - val_loss: 0.6154 - val_accuracy: 0.8045\n",
            "Epoch 34/70\n",
            "1563/1563 [==============================] - 10s 6ms/step - loss: 0.4037 - accuracy: 0.8623 - val_loss: 0.6239 - val_accuracy: 0.8036\n",
            "Epoch 35/70\n",
            "1563/1563 [==============================] - 10s 6ms/step - loss: 0.3988 - accuracy: 0.8651 - val_loss: 0.6197 - val_accuracy: 0.8051\n",
            "Epoch 36/70\n",
            "1563/1563 [==============================] - 9s 6ms/step - loss: 0.3953 - accuracy: 0.8650 - val_loss: 0.5993 - val_accuracy: 0.8145\n",
            "Epoch 37/70\n",
            "1563/1563 [==============================] - 9s 6ms/step - loss: 0.3886 - accuracy: 0.8654 - val_loss: 0.6432 - val_accuracy: 0.8085\n",
            "Epoch 38/70\n",
            "1563/1563 [==============================] - 9s 6ms/step - loss: 0.3820 - accuracy: 0.8707 - val_loss: 0.5966 - val_accuracy: 0.8118\n",
            "Epoch 39/70\n",
            "1563/1563 [==============================] - 9s 6ms/step - loss: 0.3777 - accuracy: 0.8692 - val_loss: 0.5967 - val_accuracy: 0.8145\n",
            "Epoch 40/70\n",
            "1563/1563 [==============================] - 10s 6ms/step - loss: 0.3719 - accuracy: 0.8736 - val_loss: 0.6402 - val_accuracy: 0.8072\n",
            "Epoch 41/70\n",
            "1563/1563 [==============================] - 9s 6ms/step - loss: 0.3707 - accuracy: 0.8722 - val_loss: 0.6338 - val_accuracy: 0.8089\n",
            "Epoch 42/70\n",
            "1563/1563 [==============================] - 10s 6ms/step - loss: 0.3592 - accuracy: 0.8780 - val_loss: 0.6355 - val_accuracy: 0.8114\n",
            "Epoch 43/70\n",
            "1563/1563 [==============================] - 9s 6ms/step - loss: 0.3576 - accuracy: 0.8780 - val_loss: 0.6066 - val_accuracy: 0.8125\n",
            "Epoch 44/70\n",
            "1563/1563 [==============================] - 9s 6ms/step - loss: 0.3565 - accuracy: 0.8775 - val_loss: 0.6345 - val_accuracy: 0.8076\n",
            "Epoch 45/70\n",
            "1563/1563 [==============================] - 10s 6ms/step - loss: 0.3520 - accuracy: 0.8786 - val_loss: 0.6153 - val_accuracy: 0.8122\n",
            "Epoch 46/70\n",
            "1563/1563 [==============================] - 10s 6ms/step - loss: 0.3475 - accuracy: 0.8820 - val_loss: 0.6088 - val_accuracy: 0.8175\n",
            "Epoch 47/70\n",
            "1563/1563 [==============================] - 10s 6ms/step - loss: 0.3438 - accuracy: 0.8831 - val_loss: 0.6240 - val_accuracy: 0.8123\n",
            "Epoch 48/70\n",
            "1563/1563 [==============================] - 10s 6ms/step - loss: 0.3361 - accuracy: 0.8851 - val_loss: 0.6088 - val_accuracy: 0.8176\n",
            "Epoch 49/70\n",
            "1563/1563 [==============================] - 9s 6ms/step - loss: 0.3342 - accuracy: 0.8860 - val_loss: 0.6289 - val_accuracy: 0.8134\n",
            "Epoch 50/70\n",
            "1563/1563 [==============================] - 10s 6ms/step - loss: 0.3291 - accuracy: 0.8867 - val_loss: 0.6669 - val_accuracy: 0.8040\n",
            "Epoch 51/70\n",
            "1563/1563 [==============================] - 9s 6ms/step - loss: 0.3294 - accuracy: 0.8871 - val_loss: 0.6304 - val_accuracy: 0.8082\n",
            "Epoch 52/70\n",
            "1563/1563 [==============================] - 10s 6ms/step - loss: 0.3291 - accuracy: 0.8884 - val_loss: 0.6435 - val_accuracy: 0.8126\n",
            "Epoch 53/70\n",
            "1563/1563 [==============================] - 10s 6ms/step - loss: 0.3231 - accuracy: 0.8894 - val_loss: 0.6164 - val_accuracy: 0.8134\n",
            "Epoch 54/70\n",
            "1563/1563 [==============================] - 9s 6ms/step - loss: 0.3190 - accuracy: 0.8907 - val_loss: 0.6290 - val_accuracy: 0.8104\n",
            "Epoch 55/70\n",
            "1563/1563 [==============================] - 10s 6ms/step - loss: 0.3131 - accuracy: 0.8929 - val_loss: 0.6635 - val_accuracy: 0.8096\n",
            "Epoch 56/70\n",
            "1563/1563 [==============================] - 9s 6ms/step - loss: 0.3139 - accuracy: 0.8933 - val_loss: 0.6223 - val_accuracy: 0.8176\n",
            "Epoch 57/70\n",
            "1563/1563 [==============================] - 10s 6ms/step - loss: 0.3129 - accuracy: 0.8921 - val_loss: 0.6470 - val_accuracy: 0.8117\n",
            "Epoch 58/70\n",
            "1563/1563 [==============================] - 9s 6ms/step - loss: 0.3142 - accuracy: 0.8935 - val_loss: 0.6594 - val_accuracy: 0.8114\n",
            "Epoch 59/70\n",
            "1563/1563 [==============================] - 10s 6ms/step - loss: 0.3057 - accuracy: 0.8964 - val_loss: 0.6996 - val_accuracy: 0.8006\n",
            "Epoch 60/70\n",
            "1563/1563 [==============================] - 10s 6ms/step - loss: 0.3020 - accuracy: 0.8970 - val_loss: 0.6286 - val_accuracy: 0.8135\n",
            "Epoch 61/70\n",
            "1563/1563 [==============================] - 10s 6ms/step - loss: 0.3051 - accuracy: 0.8950 - val_loss: 0.6157 - val_accuracy: 0.8214\n",
            "Epoch 62/70\n",
            "1563/1563 [==============================] - 10s 6ms/step - loss: 0.2983 - accuracy: 0.8975 - val_loss: 0.6195 - val_accuracy: 0.8205\n",
            "Epoch 63/70\n",
            "1563/1563 [==============================] - 9s 6ms/step - loss: 0.2937 - accuracy: 0.8984 - val_loss: 0.6482 - val_accuracy: 0.8130\n",
            "Epoch 64/70\n",
            "1563/1563 [==============================] - 9s 6ms/step - loss: 0.2895 - accuracy: 0.9010 - val_loss: 0.6525 - val_accuracy: 0.8147\n",
            "Epoch 65/70\n",
            "1563/1563 [==============================] - 9s 6ms/step - loss: 0.2916 - accuracy: 0.9011 - val_loss: 0.6292 - val_accuracy: 0.8151\n",
            "Epoch 66/70\n",
            "1563/1563 [==============================] - 10s 6ms/step - loss: 0.2956 - accuracy: 0.8987 - val_loss: 0.6462 - val_accuracy: 0.8095\n",
            "Epoch 67/70\n",
            "1563/1563 [==============================] - 10s 6ms/step - loss: 0.2886 - accuracy: 0.9002 - val_loss: 0.6444 - val_accuracy: 0.8130\n",
            "Epoch 68/70\n",
            "1563/1563 [==============================] - 9s 6ms/step - loss: 0.2841 - accuracy: 0.9015 - val_loss: 0.6477 - val_accuracy: 0.8183\n",
            "Epoch 69/70\n",
            "1563/1563 [==============================] - 10s 6ms/step - loss: 0.2841 - accuracy: 0.9012 - val_loss: 0.6503 - val_accuracy: 0.8163\n",
            "Epoch 70/70\n",
            "1563/1563 [==============================] - 9s 6ms/step - loss: 0.2819 - accuracy: 0.9033 - val_loss: 0.6472 - val_accuracy: 0.8168\n"
          ]
        }
      ]
    },
    {
      "cell_type": "code",
      "source": [
        "test_loss, test_acc = model.evaluate(x_test,  y_test, verbose=2)\n",
        "\n",
        "\n",
        "print(test_acc)"
      ],
      "metadata": {
        "colab": {
          "base_uri": "https://localhost:8080/"
        },
        "id": "firsvsGzst6n",
        "outputId": "dbfe46c4-0e45-4469-d2c5-73344e7ad5d2"
      },
      "execution_count": 7,
      "outputs": [
        {
          "output_type": "stream",
          "name": "stdout",
          "text": [
            "313/313 - 1s - loss: 0.6472 - accuracy: 0.8168 - 865ms/epoch - 3ms/step\n",
            "0.8167999982833862\n"
          ]
        }
      ]
    },
    {
      "cell_type": "code",
      "source": [
        ""
      ],
      "metadata": {
        "id": "pdHSe4XVsuLw"
      },
      "execution_count": null,
      "outputs": []
    }
  ]
}